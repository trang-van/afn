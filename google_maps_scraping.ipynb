{
 "cells": [
  {
   "cell_type": "markdown",
   "metadata": {},
   "source": [
    "# Google Maps Scraping\n",
    "\n"
   ]
  },
  {
   "cell_type": "markdown",
   "metadata": {},
   "source": []
  },
  {
   "cell_type": "code",
   "execution_count": 19,
   "metadata": {},
   "outputs": [
    {
     "name": "stdout",
     "output_type": "stream",
     "text": [
      "C:\\Users\\Trang\\Desktop\\cp-research\\afn\\chromedriver.exe\n",
      "[]\n"
     ]
    }
   ],
   "source": [
    "from selenium import webdriver\n",
    "\n",
    "import os\n",
    "options = webdriver.ChromeOptions()\n",
    "\n",
    "options.add_argument('headless')\n",
    "\n",
    "print(os.path.abspath(\"chromedriver.exe\"))\n",
    "\n",
    "browser = webdriver.Chrome(executable_path=os.path.abspath(\"chromedriver.exe\"))\n",
    "\n",
    "\n",
    "url = 'https://www.google.com/maps/place/Source+Booksellers/@42.3514026,-83.0659933,17z/data=!3m2!4b1!5s0x8824d2ba08624ed7:0xa466816bc5c73c00!4m5!3m4!1s0x8824d2b0a514e495:0xcc1e9e8872b3d4b4!8m2!3d42.3513987!4d-83.0638046'\n",
    "\n",
    "\n",
    "\n",
    "browser.get(url)\n",
    "\n",
    "\n",
    "\n",
    "# review titles / username / Person who reviews\n",
    "\n",
    "temp = browser.find_elements_by_class_name(\"RcCsl dqIYcf-RWgCYc-text w4vB1d C9yzub-TSZdd-on-hover-YuD1xf\")\n",
    "\n",
    "print(temp)\n"
   ]
  },
  {
   "cell_type": "code",
   "execution_count": null,
   "metadata": {},
   "outputs": [],
   "source": []
  }
 ],
 "metadata": {
  "kernelspec": {
   "display_name": "Python 3",
   "language": "python",
   "name": "python3"
  },
  "language_info": {
   "codemirror_mode": {
    "name": "ipython",
    "version": 3
   },
   "file_extension": ".py",
   "mimetype": "text/x-python",
   "name": "python",
   "nbconvert_exporter": "python",
   "pygments_lexer": "ipython3",
   "version": "3.7.3"
  }
 },
 "nbformat": 4,
 "nbformat_minor": 2
}
