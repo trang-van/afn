{
 "cells": [
  {
   "cell_type": "markdown",
   "metadata": {},
   "source": [
    "# Google Maps Scraping\n",
    "\n"
   ]
  },
  {
   "cell_type": "markdown",
   "metadata": {},
   "source": [
    "**Resources:**<br>\n",
    "\n",
    "Readings<br>\n",
    "\n",
    "https://www.octoparse.com/blog/10-myths-about-web-scraping#<br>\n",
    "https://medium.com/analytics-vidhya/scrapy-vs-selenium-vs-beautiful-soup-for-web-scraping-24008b6c87b8<br>\n",
    "\n",
    "\n",
    "How-To's<br>\n",
    "\n",
    "https://medium.com/swlh/scraping-google-maps-using-selenium-3cec08eb6a92<br>\n",
    "\n",
    "Google Places API - https://developers.google.com/maps/documentation/places/web-service/details#fields <br>\n"
   ]
  },
  {
   "cell_type": "code",
   "execution_count": 2,
   "metadata": {},
   "outputs": [],
   "source": [
    "import requests\n",
    "import json\n",
    "import time\n",
    "import pandas as pd"
   ]
  },
  {
   "cell_type": "code",
   "execution_count": 1,
   "metadata": {},
   "outputs": [],
   "source": [
    "api_key = \"\""
   ]
  },
  {
   "cell_type": "code",
   "execution_count": 63,
   "metadata": {},
   "outputs": [],
   "source": [
    "# Modified from: https://python.gotrained.com/google-places-api-extracting-location-data-reviews/\n",
    "\n",
    "\n",
    "class GooglePlaces(object):\n",
    "    def __init__(self, apiKey):\n",
    "        super(GooglePlaces, self).__init__()\n",
    "        self.apiKey = apiKey\n",
    " \n",
    "    def search_places_by_coordinate(self, location, radius):\n",
    "        endpoint_url = \"https://maps.googleapis.com/maps/api/place/nearbysearch/json\"\n",
    "        places = []\n",
    "        params = {\n",
    "            'location': location,\n",
    "            'radius': radius,\n",
    "            'key': self.apiKey\n",
    "        }\n",
    "        print(params)\n",
    "        res = requests.get(endpoint_url, params = params)\n",
    "        print(res)\n",
    "        results =  json.loads(res.content)\n",
    "        print(results)\n",
    "        places.extend(results['results'])\n",
    "        time.sleep(2)\n",
    "        while \"next_page_token\" in results:\n",
    "            params['pagetoken'] = results['next_page_token'],\n",
    "            res = requests.get(endpoint_url, params = params)\n",
    "            results = json.loads(res.content)\n",
    "            places.extend(results['results'])\n",
    "            time.sleep(2)\n",
    "        return places\n",
    " \n",
    "    def get_place_details(self, place_id, fields):\n",
    "        endpoint_url = \"https://maps.googleapis.com/maps/api/place/details/json\"\n",
    "        params = {\n",
    "            'placeid': place_id,\n",
    "            'fields': \",\".join(fields),\n",
    "            'key': self.apiKey\n",
    "        }\n",
    "        res = requests.get(endpoint_url, params = params)\n",
    "        place_details =  json.loads(res.content)\n",
    "        return place_details"
   ]
  },
  {
   "cell_type": "code",
   "execution_count": 37,
   "metadata": {},
   "outputs": [
    {
     "name": "stdout",
     "output_type": "stream",
     "text": [
      "Requirement already satisfied: dms2dec in c:\\users\\trang\\anaconda3\\lib\\site-packages (0.1)\n",
      "Note: you may need to restart the kernel to use updated packages.\n"
     ]
    }
   ],
   "source": [
    "%pip install dms2dec"
   ]
  },
  {
   "cell_type": "code",
   "execution_count": 38,
   "metadata": {},
   "outputs": [
    {
     "data": {
      "text/plain": [
       "'37.7365,-122.19461111111112'"
      ]
     },
     "execution_count": 38,
     "metadata": {},
     "output_type": "execute_result"
    }
   ],
   "source": [
    "# Search Params\n",
    "from dms2dec.dms_convert import dms2dec\n",
    "\n",
    "lat = '''37° 44' 11.4\" N'''\n",
    "lon = \"122° 11' 40.6\\\" W\"\n",
    "str(dms2dec(lat)) + \",\" + str(dms2dec(lon))"
   ]
  },
  {
   "cell_type": "code",
   "execution_count": 54,
   "metadata": {},
   "outputs": [
    {
     "data": {
      "text/plain": [
       "[]"
      ]
     },
     "execution_count": 54,
     "metadata": {},
     "output_type": "execute_result"
    }
   ],
   "source": [
    "api = GooglePlaces(api_key)\n",
    "\n",
    "places = api.search_places_by_coordinate(\"40.819057,-73.914048\", \"100\", \"restaurant\")\n",
    "places"
   ]
  },
  {
   "cell_type": "code",
   "execution_count": 3,
   "metadata": {},
   "outputs": [
    {
     "ename": "NameError",
     "evalue": "name 'GooglePlaces' is not defined",
     "output_type": "error",
     "traceback": [
      "\u001b[1;31m---------------------------------------------------------------------------\u001b[0m",
      "\u001b[1;31mNameError\u001b[0m                                 Traceback (most recent call last)",
      "\u001b[1;32m<ipython-input-3-cdb35d59b456>\u001b[0m in \u001b[0;36m<module>\u001b[1;34m\u001b[0m\n\u001b[1;32m----> 1\u001b[1;33m \u001b[0mapi\u001b[0m \u001b[1;33m=\u001b[0m \u001b[0mGooglePlaces\u001b[0m\u001b[1;33m(\u001b[0m\u001b[0mapi_key\u001b[0m\u001b[1;33m)\u001b[0m\u001b[1;33m\u001b[0m\u001b[1;33m\u001b[0m\u001b[0m\n\u001b[0m\u001b[0;32m      2\u001b[0m \u001b[0mplaces\u001b[0m \u001b[1;33m=\u001b[0m \u001b[0mapi\u001b[0m\u001b[1;33m.\u001b[0m\u001b[0msearch_places_by_coordinate\u001b[0m\u001b[1;33m(\u001b[0m\u001b[1;34m\"40.819057,-73.914048\"\u001b[0m\u001b[1;33m,\u001b[0m \u001b[1;34m\"100\"\u001b[0m\u001b[1;33m,\u001b[0m \u001b[1;34m\"restaurant\"\u001b[0m\u001b[1;33m)\u001b[0m\u001b[1;33m\u001b[0m\u001b[1;33m\u001b[0m\u001b[0m\n\u001b[0;32m      3\u001b[0m \u001b[0mfields\u001b[0m \u001b[1;33m=\u001b[0m \u001b[1;33m[\u001b[0m\u001b[1;34m'name'\u001b[0m\u001b[1;33m,\u001b[0m \u001b[1;34m'formatted_address'\u001b[0m\u001b[1;33m,\u001b[0m \u001b[1;34m'international_phone_number'\u001b[0m\u001b[1;33m,\u001b[0m \u001b[1;34m'website'\u001b[0m\u001b[1;33m,\u001b[0m \u001b[1;34m'rating'\u001b[0m\u001b[1;33m,\u001b[0m \u001b[1;34m'review'\u001b[0m\u001b[1;33m]\u001b[0m\u001b[1;33m\u001b[0m\u001b[1;33m\u001b[0m\u001b[0m\n\u001b[0;32m      4\u001b[0m \u001b[1;32mfor\u001b[0m \u001b[0mplace\u001b[0m \u001b[1;32min\u001b[0m \u001b[0mplaces\u001b[0m\u001b[1;33m:\u001b[0m\u001b[1;33m\u001b[0m\u001b[1;33m\u001b[0m\u001b[0m\n\u001b[0;32m      5\u001b[0m         \u001b[0mdetails\u001b[0m \u001b[1;33m=\u001b[0m \u001b[0mapi\u001b[0m\u001b[1;33m.\u001b[0m\u001b[0mget_place_details\u001b[0m\u001b[1;33m(\u001b[0m\u001b[0mplace\u001b[0m\u001b[1;33m[\u001b[0m\u001b[1;34m'place_id'\u001b[0m\u001b[1;33m]\u001b[0m\u001b[1;33m,\u001b[0m \u001b[0mfields\u001b[0m\u001b[1;33m)\u001b[0m\u001b[1;33m\u001b[0m\u001b[1;33m\u001b[0m\u001b[0m\n",
      "\u001b[1;31mNameError\u001b[0m: name 'GooglePlaces' is not defined"
     ]
    }
   ],
   "source": [
    "api = GooglePlaces(api_key)\n",
    "places = api.search_places_by_coordinate(\"40.819057,-73.914048\", \"100\", \"restaurant\")\n",
    "fields = ['name', 'formatted_address', 'international_phone_number', 'website', 'rating', 'review']\n",
    "for place in places:\n",
    "        details = api.get_place_details(place['place_id'], fields)\n",
    "        try:\n",
    "            website = details['result']['website']\n",
    "        except KeyError:\n",
    "            website = \"\"\n",
    " \n",
    "        try:\n",
    "            name = details['result']['name']\n",
    "        except KeyError:\n",
    "            name = \"\"\n",
    " \n",
    "        try:\n",
    "            address = details['result']['formatted_address']\n",
    "        except KeyError:\n",
    "            address = \"\"\n",
    " \n",
    "        try:\n",
    "            phone_number = details['result']['international_phone_number']\n",
    "        except KeyError:\n",
    "            phone_number = \"\"\n",
    " \n",
    "        try:\n",
    "            reviews = details['result']['reviews']\n",
    "        except KeyError:\n",
    "            reviews = []\n",
    "        print(\"===================PLACE===================\")\n",
    "        print(\"Name:\", name)\n",
    "        print(\"Website:\", website)\n",
    "        print(\"Address:\", address)\n",
    "        print(\"Phone Number\", phone_number)"
   ]
  },
  {
   "cell_type": "code",
   "execution_count": 4,
   "metadata": {
    "scrolled": true
   },
   "outputs": [
    {
     "ename": "NameError",
     "evalue": "name 'GooglePlaces' is not defined",
     "output_type": "error",
     "traceback": [
      "\u001b[1;31m---------------------------------------------------------------------------\u001b[0m",
      "\u001b[1;31mNameError\u001b[0m                                 Traceback (most recent call last)",
      "\u001b[1;32m<ipython-input-4-89a5b3efbacf>\u001b[0m in \u001b[0;36m<module>\u001b[1;34m\u001b[0m\n\u001b[1;32m----> 1\u001b[1;33m \u001b[0mapi\u001b[0m \u001b[1;33m=\u001b[0m \u001b[0mGooglePlaces\u001b[0m\u001b[1;33m(\u001b[0m\u001b[0mapi_key\u001b[0m\u001b[1;33m)\u001b[0m\u001b[1;33m\u001b[0m\u001b[1;33m\u001b[0m\u001b[0m\n\u001b[0m\u001b[0;32m      2\u001b[0m \u001b[0mplaces\u001b[0m \u001b[1;33m=\u001b[0m \u001b[0mapi\u001b[0m\u001b[1;33m.\u001b[0m\u001b[0msearch_places_by_coordinate\u001b[0m\u001b[1;33m(\u001b[0m\u001b[0mlocation\u001b[0m\u001b[1;33m=\u001b[0m\u001b[0mstr\u001b[0m\u001b[1;33m(\u001b[0m\u001b[0mdms2dec\u001b[0m\u001b[1;33m(\u001b[0m\u001b[0mlat\u001b[0m\u001b[1;33m)\u001b[0m\u001b[1;33m)\u001b[0m \u001b[1;33m+\u001b[0m \u001b[1;34m\",\"\u001b[0m \u001b[1;33m+\u001b[0m \u001b[0mstr\u001b[0m\u001b[1;33m(\u001b[0m\u001b[0mdms2dec\u001b[0m\u001b[1;33m(\u001b[0m\u001b[0mlon\u001b[0m\u001b[1;33m)\u001b[0m\u001b[1;33m)\u001b[0m\u001b[1;33m,\u001b[0m \u001b[0mradius\u001b[0m\u001b[1;33m=\u001b[0m\u001b[1;36m100\u001b[0m\u001b[1;33m)\u001b[0m\u001b[1;33m\u001b[0m\u001b[1;33m\u001b[0m\u001b[0m\n\u001b[0;32m      3\u001b[0m \u001b[0mplaces\u001b[0m\u001b[1;33m\u001b[0m\u001b[1;33m\u001b[0m\u001b[0m\n",
      "\u001b[1;31mNameError\u001b[0m: name 'GooglePlaces' is not defined"
     ]
    }
   ],
   "source": [
    "api = GooglePlaces(api_key)\n",
    "places = api.search_places_by_coordinate(location=str(dms2dec(lat)) + \",\" + str(dms2dec(lon)), radius=100)\n",
    "places"
   ]
  },
  {
   "cell_type": "code",
   "execution_count": 5,
   "metadata": {},
   "outputs": [
    {
     "ename": "NameError",
     "evalue": "name 'places' is not defined",
     "output_type": "error",
     "traceback": [
      "\u001b[1;31m---------------------------------------------------------------------------\u001b[0m",
      "\u001b[1;31mNameError\u001b[0m                                 Traceback (most recent call last)",
      "\u001b[1;32m<ipython-input-5-f529c58288cf>\u001b[0m in \u001b[0;36m<module>\u001b[1;34m\u001b[0m\n\u001b[0;32m      1\u001b[0m \u001b[0mfields\u001b[0m \u001b[1;33m=\u001b[0m \u001b[1;33m[\u001b[0m\u001b[1;34m'place_id'\u001b[0m\u001b[1;33m,\u001b[0m \u001b[1;34m'name'\u001b[0m\u001b[1;33m,\u001b[0m \u001b[1;34m'formatted_address'\u001b[0m\u001b[1;33m,\u001b[0m \u001b[1;34m'business_status'\u001b[0m\u001b[1;33m,\u001b[0m\u001b[1;34m'permanently_closed'\u001b[0m\u001b[1;33m,\u001b[0m \u001b[1;34m'url'\u001b[0m\u001b[1;33m,\u001b[0m \u001b[1;34m'rating'\u001b[0m\u001b[1;33m]\u001b[0m\u001b[1;33m\u001b[0m\u001b[1;33m\u001b[0m\u001b[0m\n\u001b[1;32m----> 2\u001b[1;33m \u001b[1;32mfor\u001b[0m \u001b[0mplace\u001b[0m \u001b[1;32min\u001b[0m \u001b[0mplaces\u001b[0m\u001b[1;33m:\u001b[0m\u001b[1;33m\u001b[0m\u001b[1;33m\u001b[0m\u001b[0m\n\u001b[0m\u001b[0;32m      3\u001b[0m     \u001b[0mdetails\u001b[0m \u001b[1;33m=\u001b[0m \u001b[0mapi\u001b[0m\u001b[1;33m.\u001b[0m\u001b[0mget_place_details\u001b[0m\u001b[1;33m(\u001b[0m\u001b[0mplace\u001b[0m\u001b[1;33m[\u001b[0m\u001b[1;34m'place_id'\u001b[0m\u001b[1;33m]\u001b[0m\u001b[1;33m,\u001b[0m \u001b[0mfields\u001b[0m\u001b[1;33m)\u001b[0m\u001b[1;33m\u001b[0m\u001b[1;33m\u001b[0m\u001b[0m\n\u001b[0;32m      4\u001b[0m     \u001b[1;32mtry\u001b[0m\u001b[1;33m:\u001b[0m\u001b[1;33m\u001b[0m\u001b[1;33m\u001b[0m\u001b[0m\n\u001b[0;32m      5\u001b[0m         \u001b[0mplace_id\u001b[0m \u001b[1;33m=\u001b[0m \u001b[0mdetails\u001b[0m\u001b[1;33m[\u001b[0m\u001b[1;34m'result'\u001b[0m\u001b[1;33m]\u001b[0m\u001b[1;33m[\u001b[0m\u001b[1;34m'place_id'\u001b[0m\u001b[1;33m]\u001b[0m\u001b[1;33m\u001b[0m\u001b[1;33m\u001b[0m\u001b[0m\n",
      "\u001b[1;31mNameError\u001b[0m: name 'places' is not defined"
     ]
    }
   ],
   "source": [
    "fields = ['place_id', 'name', 'formatted_address', 'business_status','permanently_closed', 'url', 'rating']\n",
    "for place in places:\n",
    "    details = api.get_place_details(place['place_id'], fields)\n",
    "    try:\n",
    "        place_id = details['result']['place_id']\n",
    "    except KeyError:\n",
    "        place_id = \"\"\n",
    " \n",
    "    try:\n",
    "        name = details['result']['name']\n",
    "    except KeyError:\n",
    "        name = \"\"\n",
    " \n",
    "    try:\n",
    "        address = details['result']['formatted_address']\n",
    "    except KeyError:\n",
    "        address = \"\"\n",
    " \n",
    "    try:\n",
    "        business_status = details['result']['business_status']\n",
    "    except KeyError:\n",
    "        business_status = \"\"\n",
    " \n",
    "    try:\n",
    "        permanently_closed = details['result']['permanently_closed']\n",
    "    except KeyError:\n",
    "        permanently_closed = \"\"\n",
    "        \n",
    "    try:\n",
    "        url = details['result']['url']\n",
    "    except KeyError:\n",
    "        url = \"\"\n",
    "    try:\n",
    "        rating = details['result']['rating']\n",
    "    except KeyError:\n",
    "        rating = \"\"\n",
    "        \n",
    "    print(\"===================PLACE===================\")\n",
    "    print(\"Name:\", name)\n",
    "    print(\"Place ID:\", place_id)\n",
    "    print(\"Address:\", address)\n",
    "    print(\"Status:\", business_status)\n",
    "    print(\"Permanently Closed:\", permanently_closed)\n",
    "    print(\"URL:\", url)\n",
    "    print(\"Rating\", rating)"
   ]
  },
  {
   "cell_type": "code",
   "execution_count": null,
   "metadata": {},
   "outputs": [],
   "source": []
  }
 ],
 "metadata": {
  "kernelspec": {
   "display_name": "Python 3",
   "language": "python",
   "name": "python3"
  },
  "language_info": {
   "codemirror_mode": {
    "name": "ipython",
    "version": 3
   },
   "file_extension": ".py",
   "mimetype": "text/x-python",
   "name": "python",
   "nbconvert_exporter": "python",
   "pygments_lexer": "ipython3",
   "version": "3.7.3"
  }
 },
 "nbformat": 4,
 "nbformat_minor": 2
}
