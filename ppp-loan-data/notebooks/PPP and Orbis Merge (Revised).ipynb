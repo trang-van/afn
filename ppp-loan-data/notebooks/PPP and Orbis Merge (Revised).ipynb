{
 "cells": [
  {
   "cell_type": "markdown",
   "metadata": {},
   "source": [
    "### Orbis and PPP Loan Data Merge\n",
    "\n",
    "1. Extract matches between the PPP Loan Data and Orbis\n",
    "2. Get all businesses NOT in Orbis but is in Bay Area AND is Minority-owned\n",
    "3. Get needed columns from PPP Loan to append to Orbis\n",
    "4. Extract PPP Loan columns and merge with orbis\n",
    "5. Add PPP bus not in Orbis with those PPP loan columns\n",
    "6. Reexport and update everyone"
   ]
  },
  {
   "cell_type": "code",
   "execution_count": 1,
   "metadata": {},
   "outputs": [],
   "source": [
    "from cleanco import cleanco\n",
    "import pandas as pd\n",
    "import re\n",
    "import os\n",
    "from os.path import dirname, abspath\n",
    "from IPython.display import display, HTML # Source: https://stackoverflow.com/questions/38783027/jupyter-notebook-display-two-pandas-tables-side-by-side"
   ]
  },
  {
   "cell_type": "code",
   "execution_count": 2,
   "metadata": {},
   "outputs": [
    {
     "data": {
      "text/plain": [
       "'C:\\\\Users\\\\Trang\\\\Desktop\\\\cp-research\\\\afn'"
      ]
     },
     "execution_count": 2,
     "metadata": {},
     "output_type": "execute_result"
    }
   ],
   "source": [
    "# Get Current Working Directory and Parent Path (for reading files in different folders)\n",
    "## Source: https://stackoverflow.com/questions/30218802/get-parent-of-current-directory-from-python-script/30218825\n",
    "d = dirname(dirname(abspath(os.getcwd())))\n",
    "d"
   ]
  },
  {
   "cell_type": "code",
   "execution_count": null,
   "metadata": {},
   "outputs": [],
   "source": [
    "orbis_file = d+'/ppp-loan-data/Orbis database_six cities only.csv'\n",
    "ppp_file =d+'/ppp-loan-data/out/bay_bus_from_ppp.csv'"
   ]
  },
  {
   "cell_type": "code",
   "execution_count": null,
   "metadata": {},
   "outputs": [],
   "source": [
    "orbis_df = pd.read_csv(orbis_file)\n",
    "orbis_df.head()"
   ]
  },
  {
   "cell_type": "code",
   "execution_count": null,
   "metadata": {},
   "outputs": [],
   "source": [
    "ppp_df = pd.read_csv(ppp_file)\n",
    "ppp_df.head()"
   ]
  },
  {
   "cell_type": "code",
   "execution_count": null,
   "metadata": {},
   "outputs": [],
   "source": [
    "# Clean Orbis Name Column\n",
    "orbis_df['Company Name - Clean'] =orbis_df['Company name Latin alphabet'].apply(lambda x: cleanco(x).clean_name())\n",
    "orbis_df.head()"
   ]
  },
  {
   "cell_type": "code",
   "execution_count": null,
   "metadata": {},
   "outputs": [],
   "source": [
    "ppp_df['BorrowerName - Clean'] = ppp_df['BorrowerName'].apply(str).apply(lambda x: cleanco(x).clean_name())\n",
    "ppp_df.head()"
   ]
  },
  {
   "cell_type": "code",
   "execution_count": null,
   "metadata": {},
   "outputs": [],
   "source": [
    "# Find businesses in Orbis databases\n",
    "ppp_from_orbis = ppp_df[ppp_df['BorrowerName - Clean'].isin(orbis_df['Company Name - Clean'])]\n",
    "ppp_from_orbis.head()"
   ]
  },
  {
   "cell_type": "code",
   "execution_count": null,
   "metadata": {},
   "outputs": [],
   "source": [
    "ppp_columns = ['BorrowerName - Clean','CurrentApprovalAmount', 'YearApproved', 'Race', 'Ethnicity', 'Minority', 'NAICS_4','IndustrySubsector']"
   ]
  },
  {
   "cell_type": "markdown",
   "metadata": {},
   "source": [
    "### Get Businesses Not in Orbis"
   ]
  },
  {
   "cell_type": "code",
   "execution_count": null,
   "metadata": {},
   "outputs": [],
   "source": [
    "ppp_not_in_orbis = ppp_df[~ppp_df['BorrowerName - Clean'].isin(orbis_df['Company Name - Clean'])]\n",
    "ppp_not_in_orbis.head()"
   ]
  },
  {
   "cell_type": "code",
   "execution_count": null,
   "metadata": {
    "scrolled": true
   },
   "outputs": [],
   "source": [
    "ppp_not_in_orbis.columns"
   ]
  },
  {
   "cell_type": "code",
   "execution_count": null,
   "metadata": {},
   "outputs": [],
   "source": [
    "ppp_to_orbis_columns = ['BorrowerName','BorrowerAddress','BorrowerCity', 'BorrowerState', 'BorrowerZip','Gender', 'ProjectCity', 'BusinessType']"
   ]
  },
  {
   "cell_type": "code",
   "execution_count": null,
   "metadata": {},
   "outputs": [],
   "source": [
    "def extract_columns(df, columns):\n",
    "    return df[columns]"
   ]
  },
  {
   "cell_type": "code",
   "execution_count": null,
   "metadata": {},
   "outputs": [],
   "source": [
    "extracted_ppp = extract_columns(ppp_not_in_orbis, ppp_to_orbis_columns + ppp_columns)\n",
    "extracted_ppp.head()"
   ]
  },
  {
   "cell_type": "code",
   "execution_count": null,
   "metadata": {
    "scrolled": true
   },
   "outputs": [],
   "source": [
    "extracted_ppp_minority = extracted_ppp[extracted_ppp['Minority'] == 'Yes']\n",
    "extracted_ppp_minority.head()"
   ]
  },
  {
   "cell_type": "code",
   "execution_count": null,
   "metadata": {},
   "outputs": [],
   "source": [
    "for i in extracted_ppp_minority['BorrowerCity'].str.title().unique():\n",
    "    print(i)"
   ]
  },
  {
   "cell_type": "code",
   "execution_count": null,
   "metadata": {},
   "outputs": [],
   "source": [
    "extracted_ppp_minority.to_csv(d+'/ppp-loan-data/out/ppp-not-in-orbis-minority.csv', index=False)"
   ]
  },
  {
   "cell_type": "code",
   "execution_count": null,
   "metadata": {},
   "outputs": [],
   "source": [
    "# Read in New combined files\n",
    "\n",
    "revised_orbis_ppp_df = pd.read_csv(d+'/ppp-loan-data/out/merged_cities/orbis_ppp_merge.csv')\n",
    "revised_orbis_ppp_df.head()"
   ]
  },
  {
   "cell_type": "code",
   "execution_count": null,
   "metadata": {},
   "outputs": [],
   "source": [
    "revised_orbis_ppp_df.columns"
   ]
  },
  {
   "cell_type": "code",
   "execution_count": null,
   "metadata": {},
   "outputs": [],
   "source": [
    "revised_orbis_ppp_df['Address line 1\\nLatin Alphabet'] = revised_orbis_ppp_df['Address line 1\\nLatin Alphabet'].str.upper()\n",
    "revised_orbis_ppp_df['City\\nLatin Alphabet'] = revised_orbis_ppp_df['City\\nLatin Alphabet'].str.upper()\n",
    "revised_orbis_ppp_df['Study Area'] = revised_orbis_ppp_df['Study Area'].str.upper()"
   ]
  },
  {
   "cell_type": "code",
   "execution_count": null,
   "metadata": {
    "scrolled": true
   },
   "outputs": [],
   "source": [
    "revised_orbis_ppp_df.head()"
   ]
  },
  {
   "cell_type": "code",
   "execution_count": null,
   "metadata": {
    "scrolled": false
   },
   "outputs": [],
   "source": [
    "revised_orbis_ppp_df['Study Area'].unique()"
   ]
  },
  {
   "cell_type": "code",
   "execution_count": null,
   "metadata": {},
   "outputs": [],
   "source": [
    "revised_orbis_ppp_df.to_csv(d+'/ppp-loan-data/out/orbis-ppp-merge-cleaned.csv', index=False)"
   ]
  },
  {
   "cell_type": "code",
   "execution_count": null,
   "metadata": {},
   "outputs": [],
   "source": [
    "short_orbis_ppp_df = revised_orbis_ppp_df[revised_orbis_ppp_df['Study Area'].notna()]"
   ]
  },
  {
   "cell_type": "code",
   "execution_count": null,
   "metadata": {
    "scrolled": true
   },
   "outputs": [],
   "source": [
    "short_orbis_ppp_df.head()"
   ]
  },
  {
   "cell_type": "code",
   "execution_count": null,
   "metadata": {},
   "outputs": [],
   "source": [
    "short_orbis_ppp_df.to_csv(d+'/ppp-loan-data/out/orbis-ppp-merge-study-areas.csv', index=False)"
   ]
  },
  {
   "cell_type": "markdown",
   "metadata": {},
   "source": [
    "Please add in a new column in your spreadsheet called \"Operational status\"\n",
    "If the business has an active license based on the business license data from your city list it as 'Active'\n",
    "If the business has an expired license, list as 'Expired license'\n",
    "If the business is closed, list as 'Closed'\n",
    "If the business does not appear in the business license database at all note this as 'Not in license database'"
   ]
  },
  {
   "cell_type": "code",
   "execution_count": 3,
   "metadata": {
    "scrolled": true
   },
   "outputs": [
    {
     "data": {
      "text/html": [
       "<div>\n",
       "<style scoped>\n",
       "    .dataframe tbody tr th:only-of-type {\n",
       "        vertical-align: middle;\n",
       "    }\n",
       "\n",
       "    .dataframe tbody tr th {\n",
       "        vertical-align: top;\n",
       "    }\n",
       "\n",
       "    .dataframe thead th {\n",
       "        text-align: right;\n",
       "    }\n",
       "</style>\n",
       "<table border=\"1\" class=\"dataframe\">\n",
       "  <thead>\n",
       "    <tr style=\"text-align: right;\">\n",
       "      <th></th>\n",
       "      <th>Sector</th>\n",
       "      <th>Subsector</th>\n",
       "      <th>Digit NAIC</th>\n",
       "      <th>Industry Group</th>\n",
       "      <th>Include in our study?</th>\n",
       "    </tr>\n",
       "  </thead>\n",
       "  <tbody>\n",
       "    <tr>\n",
       "      <th>0</th>\n",
       "      <td>Retail Trade</td>\n",
       "      <td>Furniture &amp; Home Furnishing Stores</td>\n",
       "      <td>4421</td>\n",
       "      <td>Furniture Stores</td>\n",
       "      <td>Yes</td>\n",
       "    </tr>\n",
       "    <tr>\n",
       "      <th>1</th>\n",
       "      <td>Retail Trade</td>\n",
       "      <td>Furniture &amp; Home Furnishing Stores</td>\n",
       "      <td>4422</td>\n",
       "      <td>Home Furnishings Stores</td>\n",
       "      <td>Yes</td>\n",
       "    </tr>\n",
       "    <tr>\n",
       "      <th>2</th>\n",
       "      <td>Retail Trade</td>\n",
       "      <td>Clothing &amp; Clothing Accessories Stores</td>\n",
       "      <td>4481</td>\n",
       "      <td>Clothing Stores</td>\n",
       "      <td>Yes</td>\n",
       "    </tr>\n",
       "    <tr>\n",
       "      <th>3</th>\n",
       "      <td>Retail Trade</td>\n",
       "      <td>Clothing &amp; Clothing Accessories Stores</td>\n",
       "      <td>4482</td>\n",
       "      <td>Shoe Stores</td>\n",
       "      <td>Yes</td>\n",
       "    </tr>\n",
       "    <tr>\n",
       "      <th>4</th>\n",
       "      <td>Retail Trade</td>\n",
       "      <td>Clothing &amp; Clothing Accessories Stores</td>\n",
       "      <td>4483</td>\n",
       "      <td>Jewelry, Luggage, and Leather Goods Stores</td>\n",
       "      <td>Yes</td>\n",
       "    </tr>\n",
       "  </tbody>\n",
       "</table>\n",
       "</div>"
      ],
      "text/plain": [
       "         Sector                               Subsector  Digit NAIC  \\\n",
       "0  Retail Trade      Furniture & Home Furnishing Stores        4421   \n",
       "1  Retail Trade      Furniture & Home Furnishing Stores        4422   \n",
       "2  Retail Trade  Clothing & Clothing Accessories Stores        4481   \n",
       "3  Retail Trade  Clothing & Clothing Accessories Stores        4482   \n",
       "4  Retail Trade  Clothing & Clothing Accessories Stores        4483   \n",
       "\n",
       "                               Industry Group Include in our study?  \n",
       "0                            Furniture Stores                   Yes  \n",
       "1                     Home Furnishings Stores                   Yes  \n",
       "2                             Clothing Stores                   Yes  \n",
       "3                                 Shoe Stores                   Yes  \n",
       "4  Jewelry, Luggage, and Leather Goods Stores                   Yes  "
      ]
     },
     "execution_count": 3,
     "metadata": {},
     "output_type": "execute_result"
    }
   ],
   "source": [
    "naics_df = pd.read_csv(d+'/ppp-loan-data/naics/naics_4_study.csv')\n",
    "naics_df.head()"
   ]
  },
  {
   "cell_type": "code",
   "execution_count": 4,
   "metadata": {},
   "outputs": [
    {
     "data": {
      "text/plain": [
       "Index(['Sector', 'Subsector', 'Digit NAIC', 'Industry Group',\n",
       "       'Include in our study?'],\n",
       "      dtype='object')"
      ]
     },
     "execution_count": 4,
     "metadata": {},
     "output_type": "execute_result"
    }
   ],
   "source": [
    "naics_df.columns"
   ]
  },
  {
   "cell_type": "code",
   "execution_count": 5,
   "metadata": {
    "scrolled": true
   },
   "outputs": [
    {
     "name": "stderr",
     "output_type": "stream",
     "text": [
      "C:\\ProgramData\\Anaconda3\\lib\\site-packages\\IPython\\core\\interactiveshell.py:3049: DtypeWarning: Columns (10) have mixed types. Specify dtype option on import or set low_memory=False.\n",
      "  interactivity=interactivity, compiler=compiler, result=result)\n"
     ]
    },
    {
     "data": {
      "text/html": [
       "<div>\n",
       "<style scoped>\n",
       "    .dataframe tbody tr th:only-of-type {\n",
       "        vertical-align: middle;\n",
       "    }\n",
       "\n",
       "    .dataframe tbody tr th {\n",
       "        vertical-align: top;\n",
       "    }\n",
       "\n",
       "    .dataframe thead th {\n",
       "        text-align: right;\n",
       "    }\n",
       "</style>\n",
       "<table border=\"1\" class=\"dataframe\">\n",
       "  <thead>\n",
       "    <tr style=\"text-align: right;\">\n",
       "      <th></th>\n",
       "      <th>Company name Latin alphabet</th>\n",
       "      <th>Inactive</th>\n",
       "      <th>Quoted</th>\n",
       "      <th>Branch</th>\n",
       "      <th>OwnData</th>\n",
       "      <th>Woco</th>\n",
       "      <th>Country ISO code</th>\n",
       "      <th>NACE Rev. 2, core code (4 digits)</th>\n",
       "      <th>Consolidation code</th>\n",
       "      <th>Last avail. year</th>\n",
       "      <th>...</th>\n",
       "      <th>Study Area</th>\n",
       "      <th>Company Name - Clean</th>\n",
       "      <th>BorrowerName-Clean</th>\n",
       "      <th>CurrentApprovalAmount</th>\n",
       "      <th>YearApproved</th>\n",
       "      <th>Race</th>\n",
       "      <th>Ethnicity</th>\n",
       "      <th>Minority</th>\n",
       "      <th>NAICS_4</th>\n",
       "      <th>IndustrySubsector</th>\n",
       "    </tr>\n",
       "  </thead>\n",
       "  <tbody>\n",
       "    <tr>\n",
       "      <th>0</th>\n",
       "      <td>CALIFORNIA NURSES ASSOCIATION</td>\n",
       "      <td>No</td>\n",
       "      <td>No</td>\n",
       "      <td>Yes</td>\n",
       "      <td>No</td>\n",
       "      <td>No</td>\n",
       "      <td>US</td>\n",
       "      <td>9412.0</td>\n",
       "      <td>LF</td>\n",
       "      <td>2019.0</td>\n",
       "      <td>...</td>\n",
       "      <td>OAKLAND</td>\n",
       "      <td>CALIFORNIA NURSES ASSOCIATION</td>\n",
       "      <td>NaN</td>\n",
       "      <td>NaN</td>\n",
       "      <td>NaN</td>\n",
       "      <td>NaN</td>\n",
       "      <td>NaN</td>\n",
       "      <td>NaN</td>\n",
       "      <td>NaN</td>\n",
       "      <td>NaN</td>\n",
       "    </tr>\n",
       "    <tr>\n",
       "      <th>1</th>\n",
       "      <td>HONDA CARS OF CORONA</td>\n",
       "      <td>No</td>\n",
       "      <td>No</td>\n",
       "      <td>No</td>\n",
       "      <td>No</td>\n",
       "      <td>No</td>\n",
       "      <td>US</td>\n",
       "      <td>4519.0</td>\n",
       "      <td>LF</td>\n",
       "      <td>2019.0</td>\n",
       "      <td>...</td>\n",
       "      <td>OAKLAND</td>\n",
       "      <td>HONDA CARS OF CORONA</td>\n",
       "      <td>NaN</td>\n",
       "      <td>NaN</td>\n",
       "      <td>NaN</td>\n",
       "      <td>NaN</td>\n",
       "      <td>NaN</td>\n",
       "      <td>NaN</td>\n",
       "      <td>NaN</td>\n",
       "      <td>NaN</td>\n",
       "    </tr>\n",
       "    <tr>\n",
       "      <th>2</th>\n",
       "      <td>SIMI MANAGEMENT CORP</td>\n",
       "      <td>No</td>\n",
       "      <td>No</td>\n",
       "      <td>No</td>\n",
       "      <td>No</td>\n",
       "      <td>No</td>\n",
       "      <td>US</td>\n",
       "      <td>4519.0</td>\n",
       "      <td>LF</td>\n",
       "      <td>2019.0</td>\n",
       "      <td>...</td>\n",
       "      <td>OAKLAND</td>\n",
       "      <td>SIMI MANAGEMENT</td>\n",
       "      <td>NaN</td>\n",
       "      <td>NaN</td>\n",
       "      <td>NaN</td>\n",
       "      <td>NaN</td>\n",
       "      <td>NaN</td>\n",
       "      <td>NaN</td>\n",
       "      <td>NaN</td>\n",
       "      <td>NaN</td>\n",
       "    </tr>\n",
       "    <tr>\n",
       "      <th>3</th>\n",
       "      <td>ECONOMY LUMBER CO OF OAKLAND</td>\n",
       "      <td>No</td>\n",
       "      <td>No</td>\n",
       "      <td>No</td>\n",
       "      <td>No</td>\n",
       "      <td>No</td>\n",
       "      <td>US</td>\n",
       "      <td>4778.0</td>\n",
       "      <td>LF</td>\n",
       "      <td>2019.0</td>\n",
       "      <td>...</td>\n",
       "      <td>OAKLAND</td>\n",
       "      <td>ECONOMY LUMBER CO OF OAKLAND</td>\n",
       "      <td>ECONOMY LUMBER CO OF OAKLAND</td>\n",
       "      <td>807700.0</td>\n",
       "      <td>2020.0</td>\n",
       "      <td>Unanswered</td>\n",
       "      <td>Unknown/NotStated</td>\n",
       "      <td>Unanswered</td>\n",
       "      <td>4233.0</td>\n",
       "      <td>Lumber and Other Construction Materials Mercha...</td>\n",
       "    </tr>\n",
       "    <tr>\n",
       "      <th>4</th>\n",
       "      <td>BROADWAY FORD</td>\n",
       "      <td>No</td>\n",
       "      <td>No</td>\n",
       "      <td>No</td>\n",
       "      <td>No</td>\n",
       "      <td>No</td>\n",
       "      <td>US</td>\n",
       "      <td>4519.0</td>\n",
       "      <td>LF</td>\n",
       "      <td>2008.0</td>\n",
       "      <td>...</td>\n",
       "      <td>OAKLAND</td>\n",
       "      <td>BROADWAY FORD</td>\n",
       "      <td>NaN</td>\n",
       "      <td>NaN</td>\n",
       "      <td>NaN</td>\n",
       "      <td>NaN</td>\n",
       "      <td>NaN</td>\n",
       "      <td>NaN</td>\n",
       "      <td>NaN</td>\n",
       "      <td>NaN</td>\n",
       "    </tr>\n",
       "  </tbody>\n",
       "</table>\n",
       "<p>5 rows × 36 columns</p>\n",
       "</div>"
      ],
      "text/plain": [
       "     Company name Latin alphabet Inactive Quoted Branch OwnData Woco  \\\n",
       "0  CALIFORNIA NURSES ASSOCIATION       No     No    Yes      No   No   \n",
       "1           HONDA CARS OF CORONA       No     No     No      No   No   \n",
       "2           SIMI MANAGEMENT CORP       No     No     No      No   No   \n",
       "3   ECONOMY LUMBER CO OF OAKLAND       No     No     No      No   No   \n",
       "4                  BROADWAY FORD       No     No     No      No   No   \n",
       "\n",
       "  Country ISO code  NACE Rev. 2, core code (4 digits) Consolidation code  \\\n",
       "0               US                             9412.0                 LF   \n",
       "1               US                             4519.0                 LF   \n",
       "2               US                             4519.0                 LF   \n",
       "3               US                             4778.0                 LF   \n",
       "4               US                             4519.0                 LF   \n",
       "\n",
       "   Last avail. year  ... Study Area           Company Name - Clean  \\\n",
       "0            2019.0  ...    OAKLAND  CALIFORNIA NURSES ASSOCIATION   \n",
       "1            2019.0  ...    OAKLAND           HONDA CARS OF CORONA   \n",
       "2            2019.0  ...    OAKLAND                SIMI MANAGEMENT   \n",
       "3            2019.0  ...    OAKLAND   ECONOMY LUMBER CO OF OAKLAND   \n",
       "4            2008.0  ...    OAKLAND                  BROADWAY FORD   \n",
       "\n",
       "             BorrowerName-Clean CurrentApprovalAmount YearApproved  \\\n",
       "0                           NaN                   NaN          NaN   \n",
       "1                           NaN                   NaN          NaN   \n",
       "2                           NaN                   NaN          NaN   \n",
       "3  ECONOMY LUMBER CO OF OAKLAND              807700.0       2020.0   \n",
       "4                           NaN                   NaN          NaN   \n",
       "\n",
       "         Race          Ethnicity    Minority NAICS_4  \\\n",
       "0         NaN                NaN         NaN     NaN   \n",
       "1         NaN                NaN         NaN     NaN   \n",
       "2         NaN                NaN         NaN     NaN   \n",
       "3  Unanswered  Unknown/NotStated  Unanswered  4233.0   \n",
       "4         NaN                NaN         NaN     NaN   \n",
       "\n",
       "                                   IndustrySubsector  \n",
       "0                                                NaN  \n",
       "1                                                NaN  \n",
       "2                                                NaN  \n",
       "3  Lumber and Other Construction Materials Mercha...  \n",
       "4                                                NaN  \n",
       "\n",
       "[5 rows x 36 columns]"
      ]
     },
     "execution_count": 5,
     "metadata": {},
     "output_type": "execute_result"
    }
   ],
   "source": [
    "orbis_ppp_df_naics = pd.read_csv(d+'/ppp-loan-data/out/orbis-ppp-merge-study-areas.csv')\n",
    "orbis_ppp_df_naics.head()"
   ]
  },
  {
   "cell_type": "code",
   "execution_count": 6,
   "metadata": {},
   "outputs": [
    {
     "data": {
      "text/plain": [
       "112682"
      ]
     },
     "execution_count": 6,
     "metadata": {},
     "output_type": "execute_result"
    }
   ],
   "source": [
    "len(orbis_ppp_df_naics)"
   ]
  },
  {
   "cell_type": "code",
   "execution_count": 7,
   "metadata": {},
   "outputs": [
    {
     "data": {
      "text/plain": [
       "Index(['Company name Latin alphabet', 'Inactive', 'Quoted', 'Branch',\n",
       "       'OwnData', 'Woco', 'Country ISO code',\n",
       "       'NACE Rev. 2, core code (4 digits)', 'Consolidation code',\n",
       "       'Last avail. year',\n",
       "       'Operating revenue (Turnover)\\nth USD Last avail. yr',\n",
       "       'Number of employees\\nLast avail. yr', 'Address line 1\\nLatin Alphabet',\n",
       "       'Address line 2\\nLatin Alphabet', 'Postcode\\nLatin Alphabet',\n",
       "       'City\\nLatin Alphabet', 'Region in country', 'Latitude', 'Longitude',\n",
       "       'Website address', 'NAICS 2017, core code (4 digits)',\n",
       "       'NAICS 2017, core code - description', 'Size classification',\n",
       "       'Type of entity', 'Ethnic minority owned indicator (in US)',\n",
       "       'Woman owned indicator (in US)', 'Study Area', 'Company Name - Clean',\n",
       "       'BorrowerName-Clean', 'CurrentApprovalAmount', 'YearApproved', 'Race',\n",
       "       'Ethnicity', 'Minority', 'NAICS_4', 'IndustrySubsector'],\n",
       "      dtype='object')"
      ]
     },
     "execution_count": 7,
     "metadata": {},
     "output_type": "execute_result"
    }
   ],
   "source": [
    "orbis_ppp_df_naics.columns"
   ]
  },
  {
   "cell_type": "code",
   "execution_count": 8,
   "metadata": {
    "scrolled": true
   },
   "outputs": [
    {
     "data": {
      "text/plain": [
       "0         8139.0\n",
       "1         4411.0\n",
       "2         4411.0\n",
       "3         4441.0\n",
       "4         4411.0\n",
       "5         4411.0\n",
       "6         4471.0\n",
       "7         4422.0\n",
       "8         4422.0\n",
       "9         4471.0\n",
       "10        4451.0\n",
       "11        4539.0\n",
       "12        4411.0\n",
       "13        4451.0\n",
       "14        4542.0\n",
       "15        4422.0\n",
       "16        4411.0\n",
       "17        4412.0\n",
       "18        4451.0\n",
       "19        4461.0\n",
       "20        4451.0\n",
       "21        4431.0\n",
       "22        4533.0\n",
       "23        4533.0\n",
       "24        4441.0\n",
       "25        4441.0\n",
       "26        4451.0\n",
       "27        4471.0\n",
       "28        4471.0\n",
       "29        4461.0\n",
       "           ...  \n",
       "112652       NaN\n",
       "112653       NaN\n",
       "112654       NaN\n",
       "112655       NaN\n",
       "112656       NaN\n",
       "112657       NaN\n",
       "112658       NaN\n",
       "112659       NaN\n",
       "112660       NaN\n",
       "112661       NaN\n",
       "112662       NaN\n",
       "112663       NaN\n",
       "112664       NaN\n",
       "112665       NaN\n",
       "112666       NaN\n",
       "112667       NaN\n",
       "112668       NaN\n",
       "112669       NaN\n",
       "112670       NaN\n",
       "112671       NaN\n",
       "112672       NaN\n",
       "112673       NaN\n",
       "112674       NaN\n",
       "112675       NaN\n",
       "112676       NaN\n",
       "112677       NaN\n",
       "112678       NaN\n",
       "112679       NaN\n",
       "112680       NaN\n",
       "112681       NaN\n",
       "Name: NAICS 2017, core code (4 digits), Length: 112682, dtype: float64"
      ]
     },
     "execution_count": 8,
     "metadata": {},
     "output_type": "execute_result"
    }
   ],
   "source": [
    "orbis_ppp_df_naics['NAICS 2017, core code (4 digits)']"
   ]
  },
  {
   "cell_type": "code",
   "execution_count": 9,
   "metadata": {},
   "outputs": [
    {
     "data": {
      "text/plain": [
       "0            NaN\n",
       "1            NaN\n",
       "2            NaN\n",
       "3         4233.0\n",
       "4            NaN\n",
       "5            NaN\n",
       "6            NaN\n",
       "7         4441.0\n",
       "8         4422.0\n",
       "9            NaN\n",
       "10           NaN\n",
       "11           NaN\n",
       "12           NaN\n",
       "13           NaN\n",
       "14           NaN\n",
       "15        4422.0\n",
       "16           NaN\n",
       "17           NaN\n",
       "18           NaN\n",
       "19           NaN\n",
       "20           NaN\n",
       "21           NaN\n",
       "22        4421.0\n",
       "23        4421.0\n",
       "24           NaN\n",
       "25           NaN\n",
       "26           NaN\n",
       "27           NaN\n",
       "28           NaN\n",
       "29           NaN\n",
       "           ...  \n",
       "112652    5413.0\n",
       "112653    5413.0\n",
       "112654    7225.0\n",
       "112655    8111.0\n",
       "112656    4461.0\n",
       "112657    4461.0\n",
       "112658    7225.0\n",
       "112659    2361.0\n",
       "112660    7225.0\n",
       "112661    4239.0\n",
       "112662    5419.0\n",
       "112663    6117.0\n",
       "112664    5419.0\n",
       "112665    5413.0\n",
       "112666    8111.0\n",
       "112667    5417.0\n",
       "112668    7225.0\n",
       "112669    6212.0\n",
       "112670    6212.0\n",
       "112671    5419.0\n",
       "112672    7225.0\n",
       "112673    6232.0\n",
       "112674    7225.0\n",
       "112675    7225.0\n",
       "112676    5418.0\n",
       "112677    5415.0\n",
       "112678    2382.0\n",
       "112679    5412.0\n",
       "112680    6211.0\n",
       "112681    7225.0\n",
       "Name: NAICS_4, Length: 112682, dtype: float64"
      ]
     },
     "execution_count": 9,
     "metadata": {},
     "output_type": "execute_result"
    }
   ],
   "source": [
    "orbis_ppp_df_naics['NAICS_4']"
   ]
  },
  {
   "cell_type": "code",
   "execution_count": 10,
   "metadata": {},
   "outputs": [
    {
     "data": {
      "text/html": [
       "<div>\n",
       "<style scoped>\n",
       "    .dataframe tbody tr th:only-of-type {\n",
       "        vertical-align: middle;\n",
       "    }\n",
       "\n",
       "    .dataframe tbody tr th {\n",
       "        vertical-align: top;\n",
       "    }\n",
       "\n",
       "    .dataframe thead th {\n",
       "        text-align: right;\n",
       "    }\n",
       "</style>\n",
       "<table border=\"1\" class=\"dataframe\">\n",
       "  <thead>\n",
       "    <tr style=\"text-align: right;\">\n",
       "      <th></th>\n",
       "      <th>Company name Latin alphabet</th>\n",
       "      <th>Inactive</th>\n",
       "      <th>Quoted</th>\n",
       "      <th>Branch</th>\n",
       "      <th>OwnData</th>\n",
       "      <th>Woco</th>\n",
       "      <th>Country ISO code</th>\n",
       "      <th>NACE Rev. 2, core code (4 digits)</th>\n",
       "      <th>Consolidation code</th>\n",
       "      <th>Last avail. year</th>\n",
       "      <th>...</th>\n",
       "      <th>Study Area</th>\n",
       "      <th>Company Name - Clean</th>\n",
       "      <th>BorrowerName-Clean</th>\n",
       "      <th>CurrentApprovalAmount</th>\n",
       "      <th>YearApproved</th>\n",
       "      <th>Race</th>\n",
       "      <th>Ethnicity</th>\n",
       "      <th>Minority</th>\n",
       "      <th>NAICS_4</th>\n",
       "      <th>IndustrySubsector</th>\n",
       "    </tr>\n",
       "  </thead>\n",
       "  <tbody>\n",
       "    <tr>\n",
       "      <th>7</th>\n",
       "      <td>DICKS WHOLESALE CARPET WAREHOUSE INC</td>\n",
       "      <td>No</td>\n",
       "      <td>No</td>\n",
       "      <td>No</td>\n",
       "      <td>No</td>\n",
       "      <td>No</td>\n",
       "      <td>US</td>\n",
       "      <td>4778.0</td>\n",
       "      <td>LF</td>\n",
       "      <td>2019.0</td>\n",
       "      <td>...</td>\n",
       "      <td>OAKLAND</td>\n",
       "      <td>DICKS WHOLESALE CARPET WAREHOUSE</td>\n",
       "      <td>DICKS WHOLESALE CARPET WAREHOUSE</td>\n",
       "      <td>173328.2</td>\n",
       "      <td>2020.0</td>\n",
       "      <td>Unanswered</td>\n",
       "      <td>Unknown/NotStated</td>\n",
       "      <td>Unanswered</td>\n",
       "      <td>4441.0</td>\n",
       "      <td>Building Material and Supplies Dealers</td>\n",
       "    </tr>\n",
       "    <tr>\n",
       "      <th>8</th>\n",
       "      <td>DICKS WHOLESALE CARPET WAREHOUSE INC</td>\n",
       "      <td>No</td>\n",
       "      <td>No</td>\n",
       "      <td>No</td>\n",
       "      <td>No</td>\n",
       "      <td>No</td>\n",
       "      <td>US</td>\n",
       "      <td>4778.0</td>\n",
       "      <td>LF</td>\n",
       "      <td>2019.0</td>\n",
       "      <td>...</td>\n",
       "      <td>OAKLAND</td>\n",
       "      <td>DICKS WHOLESALE CARPET WAREHOUSE</td>\n",
       "      <td>DICKS WHOLESALE CARPET WAREHOUSE</td>\n",
       "      <td>169656.0</td>\n",
       "      <td>2021.0</td>\n",
       "      <td>Unanswered</td>\n",
       "      <td>Unknown/NotStated</td>\n",
       "      <td>Unanswered</td>\n",
       "      <td>4422.0</td>\n",
       "      <td>Home Furnishings Stores</td>\n",
       "    </tr>\n",
       "    <tr>\n",
       "      <th>11</th>\n",
       "      <td>DIGICOM</td>\n",
       "      <td>No</td>\n",
       "      <td>No</td>\n",
       "      <td>No</td>\n",
       "      <td>No</td>\n",
       "      <td>No</td>\n",
       "      <td>US</td>\n",
       "      <td>4778.0</td>\n",
       "      <td>LF</td>\n",
       "      <td>2019.0</td>\n",
       "      <td>...</td>\n",
       "      <td>OAKLAND</td>\n",
       "      <td>DIGICOM</td>\n",
       "      <td>NaN</td>\n",
       "      <td>NaN</td>\n",
       "      <td>NaN</td>\n",
       "      <td>NaN</td>\n",
       "      <td>NaN</td>\n",
       "      <td>NaN</td>\n",
       "      <td>NaN</td>\n",
       "      <td>NaN</td>\n",
       "    </tr>\n",
       "    <tr>\n",
       "      <th>15</th>\n",
       "      <td>BAY AREA CONTRACT CARPETS INC</td>\n",
       "      <td>No</td>\n",
       "      <td>No</td>\n",
       "      <td>No</td>\n",
       "      <td>No</td>\n",
       "      <td>No</td>\n",
       "      <td>US</td>\n",
       "      <td>4778.0</td>\n",
       "      <td>LF</td>\n",
       "      <td>2019.0</td>\n",
       "      <td>...</td>\n",
       "      <td>OAKLAND</td>\n",
       "      <td>BAY AREA CONTRACT CARPETS</td>\n",
       "      <td>BAY AREA CONTRACT CARPETS</td>\n",
       "      <td>74219.0</td>\n",
       "      <td>2020.0</td>\n",
       "      <td>Unanswered</td>\n",
       "      <td>Unknown/NotStated</td>\n",
       "      <td>Unanswered</td>\n",
       "      <td>4422.0</td>\n",
       "      <td>Home Furnishings Stores</td>\n",
       "    </tr>\n",
       "    <tr>\n",
       "      <th>22</th>\n",
       "      <td>FRIANT &amp; ASSOCIATES INC</td>\n",
       "      <td>No</td>\n",
       "      <td>No</td>\n",
       "      <td>No</td>\n",
       "      <td>No</td>\n",
       "      <td>No</td>\n",
       "      <td>US</td>\n",
       "      <td>4779.0</td>\n",
       "      <td>LF</td>\n",
       "      <td>2019.0</td>\n",
       "      <td>...</td>\n",
       "      <td>OAKLAND</td>\n",
       "      <td>FRIANT &amp; ASSOCIATES</td>\n",
       "      <td>FRIANT &amp; ASSOCIATES</td>\n",
       "      <td>2842000.0</td>\n",
       "      <td>2020.0</td>\n",
       "      <td>Unanswered</td>\n",
       "      <td>Unknown/NotStated</td>\n",
       "      <td>Unanswered</td>\n",
       "      <td>4421.0</td>\n",
       "      <td>Furniture Stores</td>\n",
       "    </tr>\n",
       "  </tbody>\n",
       "</table>\n",
       "<p>5 rows × 36 columns</p>\n",
       "</div>"
      ],
      "text/plain": [
       "             Company name Latin alphabet Inactive Quoted Branch OwnData Woco  \\\n",
       "7   DICKS WHOLESALE CARPET WAREHOUSE INC       No     No     No      No   No   \n",
       "8   DICKS WHOLESALE CARPET WAREHOUSE INC       No     No     No      No   No   \n",
       "11                               DIGICOM       No     No     No      No   No   \n",
       "15         BAY AREA CONTRACT CARPETS INC       No     No     No      No   No   \n",
       "22               FRIANT & ASSOCIATES INC       No     No     No      No   No   \n",
       "\n",
       "   Country ISO code  NACE Rev. 2, core code (4 digits) Consolidation code  \\\n",
       "7                US                             4778.0                 LF   \n",
       "8                US                             4778.0                 LF   \n",
       "11               US                             4778.0                 LF   \n",
       "15               US                             4778.0                 LF   \n",
       "22               US                             4779.0                 LF   \n",
       "\n",
       "    Last avail. year  ... Study Area              Company Name - Clean  \\\n",
       "7             2019.0  ...    OAKLAND  DICKS WHOLESALE CARPET WAREHOUSE   \n",
       "8             2019.0  ...    OAKLAND  DICKS WHOLESALE CARPET WAREHOUSE   \n",
       "11            2019.0  ...    OAKLAND                           DIGICOM   \n",
       "15            2019.0  ...    OAKLAND         BAY AREA CONTRACT CARPETS   \n",
       "22            2019.0  ...    OAKLAND               FRIANT & ASSOCIATES   \n",
       "\n",
       "                  BorrowerName-Clean CurrentApprovalAmount YearApproved  \\\n",
       "7   DICKS WHOLESALE CARPET WAREHOUSE              173328.2       2020.0   \n",
       "8   DICKS WHOLESALE CARPET WAREHOUSE              169656.0       2021.0   \n",
       "11                               NaN                   NaN          NaN   \n",
       "15         BAY AREA CONTRACT CARPETS               74219.0       2020.0   \n",
       "22               FRIANT & ASSOCIATES             2842000.0       2020.0   \n",
       "\n",
       "          Race          Ethnicity    Minority NAICS_4  \\\n",
       "7   Unanswered  Unknown/NotStated  Unanswered  4441.0   \n",
       "8   Unanswered  Unknown/NotStated  Unanswered  4422.0   \n",
       "11         NaN                NaN         NaN     NaN   \n",
       "15  Unanswered  Unknown/NotStated  Unanswered  4422.0   \n",
       "22  Unanswered  Unknown/NotStated  Unanswered  4421.0   \n",
       "\n",
       "                          IndustrySubsector  \n",
       "7   Building Material and Supplies Dealers   \n",
       "8                  Home Furnishings Stores   \n",
       "11                                      NaN  \n",
       "15                 Home Furnishings Stores   \n",
       "22                        Furniture Stores   \n",
       "\n",
       "[5 rows x 36 columns]"
      ]
     },
     "execution_count": 10,
     "metadata": {},
     "output_type": "execute_result"
    }
   ],
   "source": [
    "condition_1 = orbis_ppp_df_naics['NAICS_4'].isin(naics_df['Digit NAIC'])\n",
    "condition_2 = orbis_ppp_df_naics['NAICS 2017, core code (4 digits)'].isin(naics_df['Digit NAIC']) \n",
    "orbis_ppp_df_naics = orbis_ppp_df_naics.loc[condition_1 | condition_2]\n",
    "orbis_ppp_df_naics.head()"
   ]
  },
  {
   "cell_type": "code",
   "execution_count": 18,
   "metadata": {},
   "outputs": [
    {
     "data": {
      "text/plain": [
       "56502"
      ]
     },
     "execution_count": 18,
     "metadata": {},
     "output_type": "execute_result"
    }
   ],
   "source": [
    "len(orbis_ppp_df_naics)"
   ]
  },
  {
   "cell_type": "code",
   "execution_count": 23,
   "metadata": {},
   "outputs": [
    {
     "data": {
      "text/plain": [
       "array([4422., 4539., 4533., 4511., 4512., 4453., 4421., 4483., 4532.,\n",
       "       4522., 4481., 4451., 4523., 4482., 4531., 4541., 4452., 4441.,\n",
       "       4431., 4543., 4412., 4542., 4471., 4461., 4411., 7223., 8129.,\n",
       "       8123., 7224., 7211., 7225., 8121., 8134., 8113., 8111., 8131.,\n",
       "       8132., 8133., 4884., 8139., 4413., 8112., 8114., 4442.,   nan])"
      ]
     },
     "execution_count": 23,
     "metadata": {},
     "output_type": "execute_result"
    }
   ],
   "source": [
    "orbis_ppp_df_naics['NAICS 2017, core code (4 digits)'].unique()"
   ]
  },
  {
   "cell_type": "code",
   "execution_count": 24,
   "metadata": {},
   "outputs": [],
   "source": [
    "orbis_ppp_df_naics.to_csv(d+'/ppp-loan-data/out/orbis-ppp-merge-naics.csv', index=False)"
   ]
  },
  {
   "cell_type": "code",
   "execution_count": null,
   "metadata": {},
   "outputs": [],
   "source": []
  }
 ],
 "metadata": {
  "kernelspec": {
   "display_name": "Python 3",
   "language": "python",
   "name": "python3"
  },
  "language_info": {
   "codemirror_mode": {
    "name": "ipython",
    "version": 3
   },
   "file_extension": ".py",
   "mimetype": "text/x-python",
   "name": "python",
   "nbconvert_exporter": "python",
   "pygments_lexer": "ipython3",
   "version": "3.7.6"
  }
 },
 "nbformat": 4,
 "nbformat_minor": 2
}
